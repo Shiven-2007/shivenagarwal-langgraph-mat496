{
 "cells": [
  {
   "cell_type": "code",
   "execution_count": 1,
   "id": "8e2470e1",
   "metadata": {},
   "outputs": [],
   "source": [
    "import os, getpass\n",
    "\n",
    "def _set_env(var: str):\n",
    "    if not os.environ.get(var):\n",
    "        os.environ[var] = getpass.getpass(f\"{var}: \")\n",
    "\n",
    "_set_env(\"OPENAI_API_KEY\")"
   ]
  },
  {
   "cell_type": "code",
   "execution_count": 3,
   "id": "09814183",
   "metadata": {},
   "outputs": [],
   "source": [
    "_set_env(\"LANGSMITH_API_KEY\")\n",
    "os.environ[\"LANGSMITH_TRACING\"] = \"true\"\n",
    "os.environ[\"LANGSMITH_PROJECT\"] = \"langchain-academy\""
   ]
  },
  {
   "cell_type": "code",
   "execution_count": 4,
   "id": "a0016d8a",
   "metadata": {},
   "outputs": [
    {
     "name": "stdout",
     "output_type": "stream",
     "text": [
      "==================================\u001b[1m Ai Message \u001b[0m==================================\n",
      "Name: Bot\n",
      "\n",
      "So you said you were researching ocean mammals?\n",
      "================================\u001b[1m Human Message \u001b[0m=================================\n",
      "Name: Lance\n",
      "\n",
      "Yes, I know about whales. But what others should I learn about?\n"
     ]
    }
   ],
   "source": [
    "from pprint import pprint\n",
    "from langchain_core.messages import AIMessage, HumanMessage\n",
    "messages = [AIMessage(f\"So you said you were researching ocean mammals?\", name=\"Bot\")]\n",
    "messages.append(HumanMessage(f\"Yes, I know about whales. But what others should I learn about?\", name=\"Lance\"))\n",
    "\n",
    "for m in messages:\n",
    "    m.pretty_print()"
   ]
  },
  {
   "cell_type": "code",
   "execution_count": 5,
   "id": "f0b11b51",
   "metadata": {},
   "outputs": [
    {
     "data": {
      "text/plain": [
       "AIMessage(content='In addition to whales, there are several other fascinating ocean mammals you might want to explore:\\n\\n1. **Dolphins**: Highly intelligent and social creatures, dolphins are known for their playful behavior and complex communication systems.\\n\\n2. **Porpoises**: Similar to dolphins but generally smaller and with different facial structures, porpoises are less gregarious but equally intriguing.\\n\\n3. **Seals**: Various species of seals inhabit the ocean, with some known for their agility in water and clumsiness on land. They are pinnipeds, which means \"fin-footed.\"\\n\\n4. **Sea Lions**: With external ear flaps and the ability to \"walk\" on land using their flippers, sea lions are another type of pinniped worth studying.\\n\\n5. **Walruses**: Recognizable by their long tusks and whiskers, walruses are large marine mammals associated with Arctic regions.\\n\\n6. **Manatees and Dugongs**: Often called \"sea cows,\" these gentle herbivores graze on underwater grasses and are known for their slow and peaceful nature.\\n\\n7. **Sea Otters**: Although not as aquatic as some other marine mammals, sea otters are known for their ability to use tools and their crucial role in maintaining the balance of nearshore ecosystems.\\n\\n8. **Polar Bears**: While primarily terrestrial, polar bears are classified as marine mammals due to their dependence on the ocean for food, especially seals.\\n\\nEach of these animals has unique adaptations and plays a vital role in their respective marine ecosystems. Studying them can provide insight into ocean health and the challenges these species face due to environmental changes.', additional_kwargs={'refusal': None}, response_metadata={'token_usage': {'completion_tokens': 335, 'prompt_tokens': 39, 'total_tokens': 374, 'completion_tokens_details': {'accepted_prediction_tokens': 0, 'audio_tokens': 0, 'reasoning_tokens': 0, 'rejected_prediction_tokens': 0}, 'prompt_tokens_details': {'audio_tokens': 0, 'cached_tokens': 0}}, 'model_provider': 'openai', 'model_name': 'gpt-4o-2024-08-06', 'system_fingerprint': 'fp_cbf1785567', 'id': 'chatcmpl-CTtsPNQyOPpl8h3r9GyE02z71TKNx', 'service_tier': 'default', 'finish_reason': 'stop', 'logprobs': None}, id='lc_run--ff2c1ad8-2c06-4029-8604-23918bb11f1b-0', usage_metadata={'input_tokens': 39, 'output_tokens': 335, 'total_tokens': 374, 'input_token_details': {'audio': 0, 'cache_read': 0}, 'output_token_details': {'audio': 0, 'reasoning': 0}})"
      ]
     },
     "execution_count": 5,
     "metadata": {},
     "output_type": "execute_result"
    }
   ],
   "source": [
    "from langchain_openai import ChatOpenAI\n",
    "llm = ChatOpenAI(model=\"gpt-4o\")\n",
    "llm.invoke(messages)"
   ]
  },
  {
   "cell_type": "code",
   "execution_count": 6,
   "id": "5d95aeda",
   "metadata": {},
   "outputs": [
    {
     "data": {
      "image/png": "[encoded data removed]",
      "text/plain": [
       "<IPython.core.display.Image object>"
      ]
     },
     "metadata": {},
     "output_type": "display_data"
    }
   ],
   "source": [
    "from IPython.display import Image, display\n",
    "from langgraph.graph import MessagesState\n",
    "from langgraph.graph import StateGraph, START, END\n",
    "\n",
    "# Node\n",
    "def chat_model_node(state: MessagesState):\n",
    "    return {\"messages\": llm.invoke(state[\"messages\"])}\n",
    "\n",
    "# Build graph\n",
    "builder = StateGraph(MessagesState)\n",
    "builder.add_node(\"chat_model\", chat_model_node)\n",
    "builder.add_edge(START, \"chat_model\")\n",
    "builder.add_edge(\"chat_model\", END)\n",
    "graph = builder.compile()\n",
    "\n",
    "# View\n",
    "display(Image(graph.get_graph().draw_mermaid_png()))"
   ]
  },
  {
   "cell_type": "code",
   "execution_count": 7,
   "id": "4c7d0dc0",
   "metadata": {},
   "outputs": [
    {
     "name": "stdout",
     "output_type": "stream",
     "text": [
      "==================================\u001b[1m Ai Message \u001b[0m==================================\n",
      "Name: Bot\n",
      "\n",
      "So you said you were researching ocean mammals?\n",
      "================================\u001b[1m Human Message \u001b[0m=================================\n",
      "Name: Lance\n",
      "\n",
      "Yes, I know about whales. But what others should I learn about?\n",
      "==================================\u001b[1m Ai Message \u001b[0m==================================\n",
      "\n",
      "In addition to whales, there are several fascinating ocean mammals you might want to explore:\n",
      "\n",
      "1. **Dolphins**: Known for their intelligence and playful behavior, dolphins are part of the family Delphinidae. There are many species, including the common bottlenose dolphin and orcas (killer whales), which are actually the largest members of the dolphin family.\n",
      "\n",
      "2. **Porpoises**: These are similar to dolphins but generally smaller and with shorter beaks. The harbor porpoise is one of the most well-known species.\n",
      "\n",
      "3. **Seals**: Belonging to the pinniped family, seals are fin-footed mammals that include species like the harbor seal and the gray seal. They are adapted to life both in water and on land.\n",
      "\n",
      "4. **Sea Lions**: Sea lions are also pinnipeds but are distinguished from true seals by their external ear flaps and greater mobility on land. The California sea lion is a well-known species.\n",
      "\n",
      "5. **Walruses**: These large marine mammals are recognized for their distinctive tusks, whiskers, and bulk. They inhabit ice-covered waters in the Arctic.\n",
      "\n",
      "6. **Manatees and Dugongs**: Known as sea cows, these gentle giants are herbivorous, feeding on sea grasses and other aquatic vegetation. Manatees can be found in the Atlantic Ocean, while dugongs are located in the Indo-Pacific region.\n",
      "\n",
      "7. **Sea Otters**: Although primarily found in the northern Pacific Ocean, sea otters are still considered marine mammals. They are known for their dense fur and use of tools to open shellfish.\n",
      "\n",
      "8. **Polar Bears**: Being excellent swimmers, polar bears spend much time on sea ice in the Arctic hunting seals. They are classified as marine mammals due to their reliance on the ocean for food.\n",
      "\n",
      "9. **Sperm Whales**: Among the largest toothed whales, sperm whales are known for their deep diving ability and are one of the deepest diving mammals.\n",
      "\n",
      "Each of these ocean mammals has unique adaptations and behaviors that suit their marine environment, making them fascinating subjects of study.\n"
     ]
    }
   ],
   "source": [
    "output = graph.invoke({'messages': messages})\n",
    "for m in output['messages']:\n",
    "    m.pretty_print()"
   ]
  },
  {
   "cell_type": "code",
   "execution_count": 8,
   "id": "15f8c747",
   "metadata": {},
   "outputs": [
    {
     "data": {
      "image/png": "[encoded data removed]",
      "text/plain": [
       "<IPython.core.display.Image object>"
      ]
     },
     "metadata": {},
     "output_type": "display_data"
    }
   ],
   "source": [
    "from langchain_core.messages import RemoveMessage\n",
    "\n",
    "# Nodes\n",
    "def filter_messages(state: MessagesState):\n",
    "    # Delete all but the 2 most recent messages\n",
    "    delete_messages = [RemoveMessage(id=m.id) for m in state[\"messages\"][:-2]]\n",
    "    return {\"messages\": delete_messages}\n",
    "\n",
    "def chat_model_node(state: MessagesState):    \n",
    "    return {\"messages\": [llm.invoke(state[\"messages\"])]}\n",
    "\n",
    "# Build graph\n",
    "builder = StateGraph(MessagesState)\n",
    "builder.add_node(\"filter\", filter_messages)\n",
    "builder.add_node(\"chat_model\", chat_model_node)\n",
    "builder.add_edge(START, \"filter\")\n",
    "builder.add_edge(\"filter\", \"chat_model\")\n",
    "builder.add_edge(\"chat_model\", END)\n",
    "graph = builder.compile()\n",
    "\n",
    "# View\n",
    "display(Image(graph.get_graph().draw_mermaid_png()))"
   ]
  },
  {
   "cell_type": "code",
   "execution_count": 9,
   "id": "4be6efd0",
   "metadata": {},
   "outputs": [
    {
     "name": "stdout",
     "output_type": "stream",
     "text": [
      "==================================\u001b[1m Ai Message \u001b[0m==================================\n",
      "Name: Bot\n",
      "\n",
      "So you said you were researching ocean mammals?\n",
      "================================\u001b[1m Human Message \u001b[0m=================================\n",
      "Name: Lance\n",
      "\n",
      "Yes, I know about whales. But what others should I learn about?\n",
      "==================================\u001b[1m Ai Message \u001b[0m==================================\n",
      "\n",
      "Beyond whales, there are several fascinating ocean mammals you could learn about, including:\n",
      "\n",
      "1. **Dolphins**: Known for their intelligence, social nature, and playful behavior, dolphins belong to the family Delphinidae and are found in oceans worldwide.\n",
      "\n",
      "2. **Porpoises**: Similar to dolphins but generally smaller and with different-shaped teeth, porpoises are part of the family Phocoenidae.\n",
      "\n",
      "3. **Seals**: These are semi-aquatic marine mammals in the family Phocidae, with species like harbor seals and elephant seals being well-known examples.\n",
      "\n",
      "4. **Sea Lions**: Often confused with seals, sea lions are part of the family Otariidae. They are known for their external ear flaps and ability to walk on land using their rear flippers.\n",
      "\n",
      "5. **Walruses**: Recognized for their long tusks, whiskers, and bulk, walruses are part of the family Odobenidae and primarily inhabit Arctic regions.\n",
      "\n",
      "6. **Manatees**: Sometimes called sea cows, they are gentle herbivores that belong to the family Trichechidae and are found in warm coastal waters and rivers.\n",
      "\n",
      "7. **Dugongs**: Closely related to manatees, dugongs are part of the family Dugongidae and are found in warm coastal areas of the Indian and western Pacific Oceans.\n",
      "\n",
      "8. **Sea Otters**: These are the smallest marine mammals and are known for their use of tools to open shellfish. Unlike most marine mammals, they do not possess a thick layer of blubber but instead rely on dense fur for insulation.\n",
      "\n",
      "9. **Polar Bears**: While primarily land mammals, polar bears are considered marine mammals due to their reliance on the ocean, especially sea ice, to hunt seals, their primary food.\n",
      "\n",
      "Each of these mammals has unique adaptations and plays a crucial role in their respective ecosystems. Depending on your interests, you might want to explore their behaviors, habitats, conservation status, and interactions with humans.\n"
     ]
    }
   ],
   "source": [
    "messages = [AIMessage(\"Hi.\", name=\"Bot\", id=\"1\")]\n",
    "messages.append(HumanMessage(\"Hi.\", name=\"Lance\", id=\"2\"))\n",
    "messages.append(AIMessage(\"So you said you were researching ocean mammals?\", name=\"Bot\", id=\"3\"))\n",
    "messages.append(HumanMessage(\"Yes, I know about whales. But what others should I learn about?\", name=\"Lance\", id=\"4\"))\n",
    "\n",
    "# Invoke\n",
    "output = graph.invoke({'messages': messages})\n",
    "for m in output['messages']:\n",
    "    m.pretty_print()"
   ]
  },
  {
   "cell_type": "code",
   "execution_count": 10,
   "id": "21683a6f",
   "metadata": {},
   "outputs": [
    {
     "data": {
      "image/png": "[encoded data removed]",
      "text/plain": [
       "<IPython.core.display.Image object>"
      ]
     },
     "metadata": {},
     "output_type": "display_data"
    }
   ],
   "source": [
    "# Node\n",
    "def chat_model_node(state: MessagesState):\n",
    "    return {\"messages\": [llm.invoke(state[\"messages\"][-1:])]}\n",
    "\n",
    "# Build graph\n",
    "builder = StateGraph(MessagesState)\n",
    "builder.add_node(\"chat_model\", chat_model_node)\n",
    "builder.add_edge(START, \"chat_model\")\n",
    "builder.add_edge(\"chat_model\", END)\n",
    "graph = builder.compile()\n",
    "\n",
    "# View\n",
    "display(Image(graph.get_graph().draw_mermaid_png()))\n",
    "\n"
   ]
  },
  {
   "cell_type": "code",
   "execution_count": 11,
   "id": "054f355b",
   "metadata": {},
   "outputs": [],
   "source": [
    "messages.append(output['messages'][-1])\n",
    "messages.append(HumanMessage(f\"Tell me more about Narwhals!\", name=\"Lance\"))"
   ]
  },
  {
   "cell_type": "code",
   "execution_count": 12,
   "id": "29ce50be",
   "metadata": {},
   "outputs": [
    {
     "name": "stdout",
     "output_type": "stream",
     "text": [
      "==================================\u001b[1m Ai Message \u001b[0m==================================\n",
      "Name: Bot\n",
      "\n",
      "Hi.\n",
      "================================\u001b[1m Human Message \u001b[0m=================================\n",
      "Name: Lance\n",
      "\n",
      "Hi.\n",
      "==================================\u001b[1m Ai Message \u001b[0m==================================\n",
      "Name: Bot\n",
      "\n",
      "So you said you were researching ocean mammals?\n",
      "================================\u001b[1m Human Message \u001b[0m=================================\n",
      "Name: Lance\n",
      "\n",
      "Yes, I know about whales. But what others should I learn about?\n",
      "==================================\u001b[1m Ai Message \u001b[0m==================================\n",
      "\n",
      "Beyond whales, there are several fascinating ocean mammals you could learn about, including:\n",
      "\n",
      "1. **Dolphins**: Known for their intelligence, social nature, and playful behavior, dolphins belong to the family Delphinidae and are found in oceans worldwide.\n",
      "\n",
      "2. **Porpoises**: Similar to dolphins but generally smaller and with different-shaped teeth, porpoises are part of the family Phocoenidae.\n",
      "\n",
      "3. **Seals**: These are semi-aquatic marine mammals in the family Phocidae, with species like harbor seals and elephant seals being well-known examples.\n",
      "\n",
      "4. **Sea Lions**: Often confused with seals, sea lions are part of the family Otariidae. They are known for their external ear flaps and ability to walk on land using their rear flippers.\n",
      "\n",
      "5. **Walruses**: Recognized for their long tusks, whiskers, and bulk, walruses are part of the family Odobenidae and primarily inhabit Arctic regions.\n",
      "\n",
      "6. **Manatees**: Sometimes called sea cows, they are gentle herbivores that belong to the family Trichechidae and are found in warm coastal waters and rivers.\n",
      "\n",
      "7. **Dugongs**: Closely related to manatees, dugongs are part of the family Dugongidae and are found in warm coastal areas of the Indian and western Pacific Oceans.\n",
      "\n",
      "8. **Sea Otters**: These are the smallest marine mammals and are known for their use of tools to open shellfish. Unlike most marine mammals, they do not possess a thick layer of blubber but instead rely on dense fur for insulation.\n",
      "\n",
      "9. **Polar Bears**: While primarily land mammals, polar bears are considered marine mammals due to their reliance on the ocean, especially sea ice, to hunt seals, their primary food.\n",
      "\n",
      "Each of these mammals has unique adaptations and plays a crucial role in their respective ecosystems. Depending on your interests, you might want to explore their behaviors, habitats, conservation status, and interactions with humans.\n",
      "================================\u001b[1m Human Message \u001b[0m=================================\n",
      "Name: Lance\n",
      "\n",
      "Tell me more about Narwhals!\n"
     ]
    }
   ],
   "source": [
    "for m in messages:\n",
    "    m.pretty_print()"
   ]
  },
  {
   "cell_type": "code",
   "execution_count": null,
   "id": "689dac4f",
   "metadata": {},
   "outputs": [
    {
     "name": "stdout",
     "output_type": "stream",
     "text": [
      "==================================\u001b[1m Ai Message \u001b[0m==================================\n",
      "Name: Bot\n",
      "\n",
      "Hi.\n",
      "================================\u001b[1m Human Message \u001b[0m=================================\n",
      "Name: Lance\n",
      "\n",
      "Hi.\n",
      "==================================\u001b[1m Ai Message \u001b[0m==================================\n",
      "Name: Bot\n",
      "\n",
      "So you said you were researching ocean mammals?\n",
      "================================\u001b[1m Human Message \u001b[0m=================================\n",
      "Name: Lance\n",
      "\n",
      "Yes, I know about whales. But what others should I learn about?\n",
      "==================================\u001b[1m Ai Message \u001b[0m==================================\n",
      "\n",
      "Beyond whales, there are several fascinating ocean mammals you could learn about, including:\n",
      "\n",
      "1. **Dolphins**: Known for their intelligence, social nature, and playful behavior, dolphins belong to the family Delphinidae and are found in oceans worldwide.\n",
      "\n",
      "2. **Porpoises**: Similar to dolphins but generally smaller and with different-shaped teeth, porpoises are part of the family Phocoenidae.\n",
      "\n",
      "3. **Seals**: These are semi-aquatic marine mammals in the family Phocidae, with species like harbor seals and elephant seals being well-known examples.\n",
      "\n",
      "4. **Sea Lions**: Often confused with seals, sea lions are part of the family Otariidae. They are known for their external ear flaps and ability to walk on land using their rear flippers.\n",
      "\n",
      "5. **Walruses**: Recognized for their long tusks, whiskers, and bulk, walruses are part of the family Odobenidae and primarily inhabit Arctic regions.\n",
      "\n",
      "6. **Manatees**: Sometimes called sea cows, they are gentle herbivores that belong to the family Trichechidae and are found in warm coastal waters and rivers.\n",
      "\n",
      "7. **Dugongs**: Closely related to manatees, dugongs are part of the family Dugongidae and are found in warm coastal areas of the Indian and western Pacific Oceans.\n",
      "\n",
      "8. **Sea Otters**: These are the smallest marine mammals and are known for their use of tools to open shellfish. Unlike most marine mammals, they do not possess a thick layer of blubber but instead rely on dense fur for insulation.\n",
      "\n",
      "9. **Polar Bears**: While primarily land mammals, polar bears are considered marine mammals due to their reliance on the ocean, especially sea ice, to hunt seals, their primary food.\n",
      "\n",
      "Each of these mammals has unique adaptations and plays a crucial role in their respective ecosystems. Depending on your interests, you might want to explore their behaviors, habitats, conservation status, and interactions with humans.\n",
      "================================\u001b[1m Human Message \u001b[0m=================================\n",
      "Name: Lance\n",
      "\n",
      "Tell me more about Narwhals!\n",
      "==================================\u001b[1m Ai Message \u001b[0m==================================\n",
      "\n",
      "Narwhals are fascinating marine mammals easily recognizable by the long, spiral tusk that protrudes from the heads of males. Here are some interesting facts about narwhals:\n",
      "\n",
      "### Classification and Habitat\n",
      "- **Scientific Name**: Monodon monoceros.\n",
      "- **Family**: Narwhals belong to the monodontid family, which also includes beluga whales.\n",
      "- **Habitat**: They are typically found in the Arctic waters around Greenland, Canada, and Russia, preferring deep ocean waters and ice-covered regions.\n",
      "\n",
      "### Physical Characteristics\n",
      "- **Size**: Narwhals are medium-sized whales, with males growing up to about 4.5 to 5.5 meters (15 to 18 feet) long, not including the tusk. Females are slightly smaller.\n",
      "- **Weight**: Adult narwhals can weigh between 800 to 1,600 kilograms (1,760 to 3,530 pounds).\n",
      "- **Coloration**: They have a mottled black and white coloration, which can provide camouflage among the moving ice.\n",
      "\n",
      "### The Tusk\n",
      "- **Structure**: The tusk is actually an elongated upper left canine tooth. In males, it can grow up to 3 meters (nearly 10 feet) long. Some females also grow smaller tusks.\n",
      "- **Function**: The exact function of the tusk is still debated among scientists. It might be used in mating rituals to attract females or establish dominance, and recent studies suggest it may have sensory capabilities.\n",
      "\n",
      "### Behavior and Diet\n",
      "- **Social Structure**: Narwhals are social animals and can often be spotted in groups called pods, typically consisting of 5 to 10 individuals, although larger groups can form.\n",
      "- **Diving and Feeding**: They are deep divers and can dive to depths exceeding 1,500 meters (4,900 feet) to find food. Their diet mainly consists of fish such as Greenland halibut, as well as squid and shrimp.\n",
      "\n",
      "### Conservation Status\n",
      "- **Threats**: Climate change, which reduces sea ice habitats, is one of the primary threats to narwhals. Other threats include hunting, oil and gas development, and disturbance from increased shipping in the Arctic.\n",
      "- **Status**: Narwhals are currently listed as Near Threatened, and international efforts are ongoing to monitor and protect their populations.\n",
      "\n",
      "Narwhals continue to inspire interest and awe due to their unique appearance and lifestyle, representing the mysteries of the Arctic marine ecosystem.\n"
     ]
    }
   ],
   "source": [
    "# Invoke, using message filtering\n",
    "output = graph.invoke({'messages': messages})\n",
    "for m in output['messages']:\n",
    "    m.pretty_print()"
   ]
  },
  {
   "cell_type": "code",
   "execution_count": 14,
   "id": "522f02bc",
   "metadata": {},
   "outputs": [
    {
     "data": {
      "image/png": "[encoded data removed]",
      "text/plain": [
       "<IPython.core.display.Image object>"
      ]
     },
     "metadata": {},
     "output_type": "display_data"
    }
   ],
   "source": [
    "from langchain_core.messages import trim_messages\n",
    "\n",
    "# Node\n",
    "def chat_model_node(state: MessagesState):\n",
    "    messages = trim_messages(\n",
    "            state[\"messages\"],\n",
    "            max_tokens=100,\n",
    "            strategy=\"last\",\n",
    "            token_counter=ChatOpenAI(model=\"gpt-4o\"),\n",
    "            allow_partial=False,\n",
    "        )\n",
    "    return {\"messages\": [llm.invoke(messages)]}\n",
    "\n",
    "# Build graph\n",
    "builder = StateGraph(MessagesState)\n",
    "builder.add_node(\"chat_model\", chat_model_node)\n",
    "builder.add_edge(START, \"chat_model\")\n",
    "builder.add_edge(\"chat_model\", END)\n",
    "graph = builder.compile()\n",
    "\n",
    "# View\n",
    "display(Image(graph.get_graph().draw_mermaid_png()))\n",
    "\n"
   ]
  },
  {
   "cell_type": "code",
   "execution_count": 15,
   "id": "4cf8d71e",
   "metadata": {},
   "outputs": [],
   "source": [
    "messages.append(output['messages'][-1])\n",
    "messages.append(HumanMessage(f\"Tell me where Orcas live!\", name=\"Lance\"))"
   ]
  },
  {
   "cell_type": "code",
   "execution_count": 16,
   "id": "890e3b7b",
   "metadata": {},
   "outputs": [
    {
     "data": {
      "text/plain": [
       "[HumanMessage(content='Tell me where Orcas live!', additional_kwargs={}, response_metadata={}, name='Lance')]"
      ]
     },
     "execution_count": 16,
     "metadata": {},
     "output_type": "execute_result"
    }
   ],
   "source": [
    "trim_messages(\n",
    "            messages,\n",
    "            max_tokens=100,\n",
    "            strategy=\"last\",\n",
    "            token_counter=ChatOpenAI(model=\"gpt-4o\"),\n",
    "            allow_partial=False\n",
    "        )"
   ]
  },
  {
   "cell_type": "code",
   "execution_count": 17,
   "id": "ecdd2959",
   "metadata": {},
   "outputs": [],
   "source": [
    "# Invoke, using message trimming in the chat_model_node \n",
    "messages_out_trim = graph.invoke({'messages': messages})"
   ]
  }
 ],
 "metadata": {
  "kernelspec": {
   "display_name": "lc-academy-env",
   "language": "python",
   "name": "python3"
  },
  "language_info": {
   "codemirror_mode": {
    "name": "ipython",
    "version": 3
   },
   "file_extension": ".py",
   "mimetype": "text/x-python",
   "name": "python",
   "nbconvert_exporter": "python",
   "pygments_lexer": "ipython3",
   "version": "3.11.3"
  }
 },
 "nbformat": 4,
 "nbformat_minor": 5
}
